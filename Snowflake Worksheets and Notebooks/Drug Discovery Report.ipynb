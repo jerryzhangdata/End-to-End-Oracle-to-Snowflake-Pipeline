{
 "metadata": {
  "kernelspec": {
   "display_name": "Streamlit Notebook",
   "name": "streamlit"
  },
  "lastEditStatus": {
   "notebookId": "x45qzwfmw4m3jqki3rsu",
   "authorId": "2886692393640",
   "authorName": "JERRYJERRYJER",
   "authorEmail": "zhang.jiahe@gmail.com",
   "sessionId": "ee9072a7-351e-4c0f-826f-e269f7cee72f",
   "lastEditTime": 1755397273245
  }
 },
 "nbformat_minor": 5,
 "nbformat": 4,
 "cells": [
  {
   "cell_type": "code",
   "id": "8557909c-db0f-4772-b911-3a459649c371",
   "metadata": {
    "language": "sql",
    "name": "cell1"
   },
   "outputs": [],
   "source": "-- Select the data from the oracle db table\nSELECT *\n    FROM PC_FIVETRAN_DB.ORACLE_RDS_DRUG_DISCOVERY_ADMIN.DRUG_DISCOVERY;\n    ",
   "execution_count": null
  },
  {
   "cell_type": "code",
   "id": "8d50cbf4-0c8d-4950-86cb-114990437ac9",
   "metadata": {
    "language": "sql",
    "name": "cell2"
   },
   "source": "-- Query data for the table in the word doc\nSELECT\n    CASE ACTIVE\n        WHEN 0 THEN 'Inactive'\n        WHEN 1 THEN 'Active'\n    END AS \"Compound Activity\",\n    ROUND(AVG(BINDING_AFFINITY), 2) AS \"Avg. Binding Affinity\",\n    ROUND(AVG(MOLECULAR_WEIGHT), 1) AS \"Avg. Molecular Weight (g/mol)\",\n    ROUND(AVG(HYDROPHOBICITY), 2) AS \"Avg. Hydrophobicity\",\n    ROUND(AVG(ROTATABLE_BONDS), 2) AS \"Avg. Rotatable Bonds\"\nFROM PC_FIVETRAN_DB.ORACLE_RDS_DRUG_DISCOVERY_ADMIN.DRUG_DISCOVERY\nGROUP BY ACTIVE;\n",
   "execution_count": null,
   "outputs": []
  },
  {
   "cell_type": "code",
   "id": "17cd5c81-225c-4ae5-b365-a1dd5ccbf8cb",
   "metadata": {
    "language": "python",
    "name": "cell3"
   },
   "outputs": [],
   "source": "# Generate the word document report\nimport pandas as pd\nimport snowflake.snowpark as sp\nimport matplotlib.pyplot as plt\nimport docx\nimport docx.shared\nimport os\nNROW_TABLE_1 = 2 # Does NOT include the header\nNCOL_TABLE_1 = 5\n\n# Load sql data into pandas dataframes\ndrug_data = cell1.to_pandas()\ndrug_data_table = cell2.to_pandas()\n\n# Create header and introductory paragraph\ndoc = docx.Document()\nheading = doc.add_heading('Drug Discovery Compound Activity Analysis', 1)\nparagraph_1 = doc.add_paragraph('\\nDrug discovery relies heavily on analyzing chemical compounds and their interactions with biological targets. Key molecular properties, such as binding affinity, hydrophobicity, and molecular weight, help researchers identify promising drug candidates. This report summarizes important findings from a sample dataset of compounds, highlighting differences between active and inactive molecules and exploring property relationships relevant to drug design.\\n\\n')\nrun_1 = paragraph_1.add_run('The dataset was downloaded from - https://www.kaggle.com/datasets/shahriarkabir/drug-discovery-virtual-screening-dataset\\n')\n\n# Create sample table\ntable_1 = doc.add_table(rows = NROW_TABLE_1 + 1, cols = NCOL_TABLE_1)\n# Add the headers\nfor i in range(NCOL_TABLE_1):\n    table_1.cell(0,i).text = str(drug_data_table.columns[i])\n    table_1.cell(0,i).paragraphs[0].runs[0].bold = True\n# Fill in the table\nfor i in range(0, NROW_TABLE_1):\n    for j in range(0, NCOL_TABLE_1):\n        table_1.cell(i + 1, j).text = str(drug_data_table.iloc[i, j])\nparagraph_2 = doc.add_paragraph()\nrun_2 = paragraph_2.add_run('Table 1: Summary of Compound Properties').italics = True\n\n# Create sample chart\nplt.scatter(\n    drug_data.loc[drug_data['ACTIVE'] == 0, 'MOLECULAR_WEIGHT'],\n    drug_data.loc[drug_data['ACTIVE'] == 0, 'HYDROPHOBICITY'],\n    alpha = 0.7,\n    label = 'Inactive',\n    color = 'grey'\n)\nplt.scatter(\n    drug_data.loc[drug_data['ACTIVE'] == 1, 'MOLECULAR_WEIGHT'],\n    drug_data.loc[drug_data['ACTIVE'] == 1, 'HYDROPHOBICITY'],\n    alpha = 0.7,\n    label = 'Active',\n    color = 'red'\n)\nplt.title(\n    'Chart 1: Hydrophobicity vs. Molecular Weight',\n    fontstyle = 'italic',\n    loc = 'left'\n)\nplt.xlabel('Molecular Weight (g/mol)')\nplt.ylabel('Hydrophobicity')\nplt.legend()\n# Convert to image to insert on word doc\ncurrent_directory = os.getcwd()\nchart_directory = f'{current_directory}/binding_and_weight.png'\nplt.savefig(chart_directory)\nplt.close()\n# Inches(5.4) is the largest size that fits on page 1\ndoc.add_picture(chart_directory, width = docx.shared.Inches(5.4))\n",
   "execution_count": null
  },
  {
   "cell_type": "code",
   "id": "c9dd4dce-7c3e-4c7c-9a0d-e4cd2988986e",
   "metadata": {
    "language": "python",
    "name": "cell4"
   },
   "outputs": [],
   "source": "# Save to internal stage for easy user access\ndoc_directory = f'{current_directory}/Drug Discovery Compound Activity Analysis.docx'\ndoc.save(doc_directory)\nsession = sp.Session.builder.getOrCreate()\nsession.file.put(\n    doc_directory,\n    '@ORACLE_REPORT_DEMO.INTERNAL_STAGES.DRUG_DISCOVERY_REPORT',\n    overwrite = True,\n    auto_compress = False # Prevents an issue where the file unzips to a folder\n)\n",
   "execution_count": null
  }
 ]
}
